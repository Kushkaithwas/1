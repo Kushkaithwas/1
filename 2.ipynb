{
  "nbformat": 4,
  "nbformat_minor": 0,
  "metadata": {
    "colab": {
      "name": "2.ipynb",
      "provenance": []
    },
    "kernelspec": {
      "name": "python3",
      "display_name": "Python 3"
    },
    "language_info": {
      "name": "python"
    }
  },
  "cells": [
    {
      "cell_type": "code",
      "metadata": {
        "colab": {
          "base_uri": "https://localhost:8080/"
        },
        "id": "w2-v8a7lVrnY",
        "outputId": "7a355a47-508f-4b66-f9d7-fe338b5616ea"
      },
      "source": [
        "\n",
        "\n",
        "print(\"Hello world, Python training in jaipur\");\n",
        "\n"
      ],
      "execution_count": 2,
      "outputs": [
        {
          "output_type": "stream",
          "name": "stdout",
          "text": [
            "Hello world, Python training in jaipur\n"
          ]
        }
      ]
    },
    {
      "cell_type": "code",
      "metadata": {
        "colab": {
          "base_uri": "https://localhost:8080/"
        },
        "id": "ExmJkufyVuYE",
        "outputId": "600624d4-60f3-4e1c-e819-4763af50f053"
      },
      "source": [
        "A=20\n",
        "\n",
        "B=\"Goeduhub\"\n",
        "\n",
        "print(A,B) # print () to show the result\n",
        "\n",
        "#Assigning single value to multiple variables\n",
        "\n",
        "x=y=z=50\n",
        "\n",
        "print (x)\n",
        "\n",
        "print (y)\n",
        "\n",
        "print (z)\n",
        "\n",
        "#Assigning multiple values to multiple variables\n",
        "\n",
        "a,b,c=1,2,3"
      ],
      "execution_count": 3,
      "outputs": [
        {
          "output_type": "stream",
          "name": "stdout",
          "text": [
            "20 Goeduhub\n",
            "50\n",
            "50\n",
            "50\n"
          ]
        }
      ]
    },
    {
      "cell_type": "code",
      "metadata": {
        "colab": {
          "base_uri": "https://localhost:8080/"
        },
        "id": "zRnK9fa9WTgv",
        "outputId": "45c1054d-8f47-4a96-badd-22733596ee4e"
      },
      "source": [
        "20+30\n"
      ],
      "execution_count": 4,
      "outputs": [
        {
          "output_type": "execute_result",
          "data": {
            "text/plain": [
              "50"
            ]
          },
          "metadata": {},
          "execution_count": 4
        }
      ]
    },
    {
      "cell_type": "code",
      "metadata": {
        "id": "HSKr4nl7Wanp"
      },
      "source": [
        ""
      ],
      "execution_count": null,
      "outputs": []
    }
  ]
}